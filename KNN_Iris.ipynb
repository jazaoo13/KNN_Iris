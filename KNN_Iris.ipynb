{
  "nbformat": 4,
  "nbformat_minor": 0,
  "metadata": {
    "colab": {
      "provenance": []
    },
    "kernelspec": {
      "name": "python3",
      "display_name": "Python 3"
    },
    "language_info": {
      "name": "python"
    }
  },
  "cells": [
    {
      "cell_type": "code",
      "execution_count": null,
      "metadata": {
        "colab": {
          "base_uri": "https://localhost:8080/"
        },
        "id": "4G9p2T7i6qtA",
        "outputId": "977e3e72-d176-4349-a0df-b17d2d8a7707"
      },
      "outputs": [
        {
          "output_type": "stream",
          "name": "stdout",
          "text": [
            "Mounted at /content/drive\n"
          ]
        }
      ],
      "source": [
        "import pandas as pd\n",
        "import matplotlib.pyplot as plt\n",
        "\n",
        "from google.colab import drive\n",
        "drive.mount('/content/drive')"
      ]
    },
    {
      "cell_type": "code",
      "source": [
        "df_iris = pd.read_csv('/content/drive/MyDrive/2024_01/Aprendizado de Máquina/iris.csv')\n"
      ],
      "metadata": {
        "id": "uLf4qNou6xtS"
      },
      "execution_count": null,
      "outputs": []
    },
    {
      "cell_type": "code",
      "source": [
        "X = df_iris[['PetalLength[cm]', 'PetalWidth[cm]']].values\n",
        "y = df_iris['Species'].values\n",
        "\n",
        "\n",
        "label_dict = {'Iris-setosa': 0,\n",
        "              'Iris-versicolor': 1,\n",
        "              'Iris-virginica': 2}\n",
        "\n",
        "df_iris['ClassLabel'] = df_iris['Species'].map(label_dict)\n",
        "\n",
        "y = df_iris['ClassLabel'].values\n",
        "y[:10]"
      ],
      "metadata": {
        "colab": {
          "base_uri": "https://localhost:8080/"
        },
        "id": "shK3O1voDCxK",
        "outputId": "8d55e76b-2e7f-4dd5-ad16-f80fb9cbe0d4"
      },
      "execution_count": null,
      "outputs": [
        {
          "output_type": "execute_result",
          "data": {
            "text/plain": [
              "array([0, 0, 0, 0, 0, 0, 0, 0, 0, 0])"
            ]
          },
          "metadata": {},
          "execution_count": 4
        }
      ]
    },
    {
      "cell_type": "code",
      "source": [
        "import numpy as np\n",
        "indices = np.arange(y.shape[0])\n",
        "indices"
      ],
      "metadata": {
        "colab": {
          "base_uri": "https://localhost:8080/"
        },
        "id": "HX5LAC2JTWs7",
        "outputId": "7220a216-4f42-4b76-8966-9cdafb54a295"
      },
      "execution_count": null,
      "outputs": [
        {
          "output_type": "execute_result",
          "data": {
            "text/plain": [
              "array([  0,   1,   2,   3,   4,   5,   6,   7,   8,   9,  10,  11,  12,\n",
              "        13,  14,  15,  16,  17,  18,  19,  20,  21,  22,  23,  24,  25,\n",
              "        26,  27,  28,  29,  30,  31,  32,  33,  34,  35,  36,  37,  38,\n",
              "        39,  40,  41,  42,  43,  44,  45,  46,  47,  48,  49,  50,  51,\n",
              "        52,  53,  54,  55,  56,  57,  58,  59,  60,  61,  62,  63,  64,\n",
              "        65,  66,  67,  68,  69,  70,  71,  72,  73,  74,  75,  76,  77,\n",
              "        78,  79,  80,  81,  82,  83,  84,  85,  86,  87,  88,  89,  90,\n",
              "        91,  92,  93,  94,  95,  96,  97,  98,  99, 100, 101, 102, 103,\n",
              "       104, 105, 106, 107, 108, 109, 110, 111, 112, 113, 114, 115, 116,\n",
              "       117, 118, 119, 120, 121, 122, 123, 124, 125, 126, 127, 128, 129,\n",
              "       130, 131, 132, 133, 134, 135, 136, 137, 138, 139, 140, 141, 142,\n",
              "       143, 144, 145, 146, 147, 148, 149])"
            ]
          },
          "metadata": {},
          "execution_count": 42
        }
      ]
    },
    {
      "cell_type": "code",
      "source": [
        "rnd = np.random.RandomState(123)\n",
        "shuffled_indices = rnd.permutation(indices)\n",
        "shuffled_indices"
      ],
      "metadata": {
        "colab": {
          "base_uri": "https://localhost:8080/"
        },
        "id": "UkMetzt7TqgR",
        "outputId": "74dd010d-1d3a-4d3d-cb38-b102c1854ef4"
      },
      "execution_count": null,
      "outputs": [
        {
          "output_type": "execute_result",
          "data": {
            "text/plain": [
              "array([ 72, 112, 132,  88,  37, 138,  87,  42,   8,  90, 141,  33,  59,\n",
              "       116, 135, 104,  36,  13,  63,  45,  28, 133,  24, 127,  46,  20,\n",
              "        31, 121, 117,   4, 130, 119,  29,   0,  62,  93, 131,   5,  16,\n",
              "        82,  60,  35, 143, 145, 142, 114, 136,  53,  19,  38, 110,  23,\n",
              "         9,  86,  91,  89,  79, 101,  65, 115,  41, 124,  95,  21,  11,\n",
              "       103,  74, 122, 118,  44,  51,  81, 149,  12, 129,  56,  50,  25,\n",
              "       128, 146,  43,   1,  71,  54, 100,  14,   6,  80,  26,  70, 139,\n",
              "        30, 108,  15,  18,  77,  22,  10,  58, 107,  75,  64,  69,   3,\n",
              "        40,  76, 134,  34,  27,  94,  85,  97, 102,  52,  92,  99, 105,\n",
              "         7,  48,  61, 120, 137, 125, 147,  39,  84,   2,  67,  55,  49,\n",
              "        68, 140,  78, 144, 111,  32,  73,  47, 148, 113,  96,  57, 123,\n",
              "       106,  83,  17,  98,  66, 126, 109])"
            ]
          },
          "metadata": {},
          "execution_count": 6
        }
      ]
    },
    {
      "cell_type": "code",
      "source": [
        "X_shuffled, y_shuffled = X[shuffled_indices], y[shuffled_indices]\n",
        "X_train, y_train = X_shuffled[:105], y_shuffled[:105]\n",
        "X_test, y_test = X_shuffled[105:], y_shuffled[105:]"
      ],
      "metadata": {
        "id": "bbjeJbPAEYds"
      },
      "execution_count": null,
      "outputs": []
    },
    {
      "cell_type": "code",
      "source": [
        "plt.scatter(X_train[y_train == 0, 0],\n",
        "            X_train[y_train == 0, 1],\n",
        "            marker='o',\n",
        "            label='class 0 (Setosa)')\n",
        "\n",
        "plt.scatter(X_train[y_train == 1, 0],\n",
        "            X_train[y_train == 1, 1],\n",
        "            marker='^',\n",
        "            label='class 1 (Versicolor)')\n",
        "\n",
        "plt.scatter(X_train[y_train == 2, 0],\n",
        "            X_train[y_train == 2, 1],\n",
        "            marker='s',\n",
        "            label='class 2 (Virginica)')\n",
        "\n",
        "plt.xlabel('petal length [cm]')\n",
        "plt.ylabel('petal width [cm]')\n",
        "plt.legend(loc='upper left')\n",
        "plt.title(\"Pontos de Treinamento\")\n",
        "\n",
        "plt.show()"
      ],
      "metadata": {
        "colab": {
          "base_uri": "https://localhost:8080/",
          "height": 472
        },
        "id": "MfIfny1VErPR",
        "outputId": "9f150bd7-b6cc-4fd9-d7bc-b4f623694783"
      },
      "execution_count": null,
      "outputs": [
        {
          "output_type": "display_data",
          "data": {
            "text/plain": [
              "<Figure size 640x480 with 1 Axes>"
            ],
            "image/png": "[encoded data removed]"
          },
          "metadata": {}
        }
      ]
    },
    {
      "cell_type": "code",
      "source": [
        "class KNN:\n",
        "  def __init__(self, n_neighbors):\n",
        "    self.n_neighbors = n_neighbors\n",
        "\n",
        "  def fit(self, X, y):\n",
        "    self.X = X\n",
        "    self.y = y\n",
        "\n",
        "  def predict(self, X_test):\n",
        "    predictions = []\n",
        "    for x_test in X_test:\n",
        "      distances = []\n",
        "      for x_train in self.X:\n",
        "        distance = ((x_test[0] - x_train[0]) ** 2 + (x_test[1] - x_train[1]) ** 2) ** 0.5\n",
        "        distances.append(distance)\n",
        "      sorted_indices = sorted(range(len(distances)), key=distances.__getitem__)\n",
        "      k_nearest_indices = sorted_indices[:self.n_neighbors]\n",
        "      k_nearest_labels = [self.y[i] for i in k_nearest_indices]\n",
        "      prediction = max(set(k_nearest_labels), key=k_nearest_labels.count)\n",
        "      predictions.append(prediction)\n",
        "    return predictions\n",
        "\n",
        "knn_model = KNN(n_neighbors=3)\n",
        "knn_model.fit(X_train, y_train)\n",
        "\n",
        "y_pred = knn_model.predict(X_test)\n",
        "num_correct_predictions = (y_pred == y_test).sum()\n",
        "accuracy = (num_correct_predictions / y_test.shape[0]) * 100\n",
        "print('Test set accuracy: %.2f%%' % accuracy)\n",
        "\n",
        "# Criando 5 novos objetos para serem classificados em uma das 3 classes, primeiramente imprimindo os objetos e seus valores depois sua classificação\n",
        "\n",
        "new_objects = [[4.7, 1.4], [1.2, 2.3], [6.3, 2.9], [5.8, 2.9], [4.1, 2.0]]\n",
        "print('Novos Objetos:')\n",
        "for obj in new_objects:\n",
        "  print(obj)\n",
        "\n",
        "y_pred = knn_model.predict(new_objects)\n",
        "\n",
        "print('\\nClassificações:')\n",
        "for i, pred in enumerate(y_pred):\n",
        "  print('Object {}: Class {}'.format(i+1, pred))\n"
      ],
      "metadata": {
        "colab": {
          "base_uri": "https://localhost:8080/"
        },
        "id": "eLS8k_91Fl0m",
        "outputId": "1a6b5f37-110c-45ab-ad4b-6a27a63ebf9b"
      },
      "execution_count": null,
      "outputs": [
        {
          "output_type": "stream",
          "name": "stdout",
          "text": [
            "Test set accuracy: 93.33%\n",
            "Novos Objetos:\n",
            "[4.7, 1.4]\n",
            "[1.2, 2.3]\n",
            "[6.3, 2.9]\n",
            "[5.8, 2.9]\n",
            "[4.1, 2.0]\n",
            "\n",
            "Classificações:\n",
            "Object 1: Class 1\n",
            "Object 2: Class 0\n",
            "Object 3: Class 2\n",
            "Object 4: Class 2\n",
            "Object 5: Class 1\n"
          ]
        }
      ]
    },
    {
      "cell_type": "code",
      "source": [
        "\n",
        "import numpy as np\n",
        "class KNN_melhorado:\n",
        "  def __init__(self, n_neighbors):\n",
        "    self.n_neighbors = n_neighbors\n",
        "\n",
        "  def fit(self, X, y):\n",
        "    self.X = X\n",
        "    self.y = y\n",
        "\n",
        "  def predict(self, X_test):\n",
        "    predictions = []\n",
        "    for x_test in X_test:\n",
        "      distances = np.sqrt(((self.X - x_test) ** 2).sum(axis=1))\n",
        "      sorted_indices = np.argsort(distances)\n",
        "      k_nearest_indices = sorted_indices[:self.n_neighbors]\n",
        "      k_nearest_labels = self.y[k_nearest_indices]\n",
        "      prediction = np.argmax(np.bincount(k_nearest_labels))\n",
        "      predictions.append(prediction)\n",
        "    return predictions\n",
        "\n",
        "knn_model_melhorado = KNN_melhorado(n_neighbors=3)\n",
        "knn_model_melhorado.fit(X_train, y_train)\n",
        "\n",
        "y_pred = knn_model_melhorado.predict(X_test)\n",
        "num_correct_predictions = (y_pred == y_test).sum()\n",
        "accuracy = (num_correct_predictions / y_test.shape[0]) * 100\n",
        "print('Test set accuracy: %.2f%%' % accuracy)\n",
        "# Criando 5 novos objetos para serem classificados em uma das 3 classes, primeiramente imprimindo os objetos e seus valores depois sua classificação\n",
        "\n",
        "new_objects = [[4.7, 1.4], [1.2, 2.3], [6.3, 2.9], [5.8, 2.9], [4.1, 2.0]]\n",
        "\n",
        "print('Novos Objetos:')\n",
        "for obj in new_objects:\n",
        "  print(obj)\n",
        "\n",
        "y_pred = knn_model_melhorado.predict(new_objects)\n",
        "\n",
        "print('\\nClassificações:')\n",
        "for i, pred in enumerate(y_pred):\n",
        "  print('Object {}: Class {}'.format(i+1, pred))\n"
      ],
      "metadata": {
        "colab": {
          "base_uri": "https://localhost:8080/"
        },
        "id": "S6YT-dVF_LFT",
        "outputId": "73074824-10ed-4fd3-aefe-4906715766c6"
      },
      "execution_count": null,
      "outputs": [
        {
          "output_type": "stream",
          "name": "stdout",
          "text": [
            "Test set accuracy: 93.33%\n",
            "Novos Objetos:\n",
            "[4.7, 1.4]\n",
            "[1.2, 2.3]\n",
            "[6.3, 2.9]\n",
            "[5.8, 2.9]\n",
            "[4.1, 2.0]\n",
            "\n",
            "Classificações:\n",
            "Object 1: Class 1\n",
            "Object 2: Class 0\n",
            "Object 3: Class 2\n",
            "Object 4: Class 2\n",
            "Object 5: Class 1\n"
          ]
        }
      ]
    },
    {
      "cell_type": "code",
      "source": [
        "import time\n",
        "\n",
        "# Gerando um vetor de teste grande\n",
        "X_test_large = np.random.rand(100000, 2)\n",
        "\n",
        "# Medindo o tempo de execução do KNN\n",
        "start_time = time.time()\n",
        "y_pred_knn = knn_model.predict(X_test_large)\n",
        "end_time = time.time()\n",
        "knn_execution_time = end_time - start_time\n",
        "\n",
        "# Medindo o tempo de execução do KNN_melhorado\n",
        "start_time = time.time()\n",
        "y_pred_knn_melhorado = knn_model_melhorado.predict(X_test_large)\n",
        "end_time = time.time()\n",
        "knn_melhorado_execution_time = end_time - start_time\n",
        "\n",
        "# Comparando os tempos de execução\n",
        "print(\"Tempo de execução do KNN:\", knn_execution_time)\n",
        "print(\"Tempo de execução do KNN_melhorado:\", knn_melhorado_execution_time)\n",
        "\n",
        "# Comparando os vetores de predição\n",
        "if np.array_equal(y_pred_knn, y_pred_knn_melhorado):\n",
        "  print(\"Os vetores de predição são iguais.\")\n",
        "else:\n",
        "  print(\"Os vetores de predição são diferentes.\")\n",
        "\n"
      ],
      "metadata": {
        "colab": {
          "base_uri": "https://localhost:8080/"
        },
        "id": "YT8J5rGv_lCd",
        "outputId": "ec8ca499-3186-42c5-aa39-84907c609a78"
      },
      "execution_count": null,
      "outputs": [
        {
          "output_type": "stream",
          "name": "stdout",
          "text": [
            "Tempo de execução do KNN: 16.61157989501953\n",
            "Tempo de execução do KNN_melhorado: 2.689091682434082\n",
            "Os vetores de predição são iguais.\n"
          ]
        }
      ]
    }
  ]
}